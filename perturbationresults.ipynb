{
 "cells": [
  {
   "cell_type": "code",
   "execution_count": 1,
   "metadata": {},
   "outputs": [],
   "source": [
    "from modules.util import load_data, load_result_df\n",
    "from modules.graphutil import generate_row\n",
    "from modules.GCN import load_model, generate_output\n",
    "import torch \n",
    "import pandas as pd\n",
    "import ast\n",
    "import seaborn as sns\n",
    "import matplotlib.pyplot as plt\n",
    "from scipy import stats\n",
    "\n",
    "dataset, data, G, nodes, ddict = load_data('cora')\n",
    "model = load_model('GCN3.pth', dataset)\n",
    "model.eval()\n",
    "\n",
    "test = load_result_df()\n",
    "\n",
    "#rand = load_result_df(r'data/finalreport.csv')\n",
    "#greedy = pd.read_csv(r'data/finalreportgreedy.csv', index_col= 0)\n"
   ]
  },
  {
   "cell_type": "code",
   "execution_count": null,
   "metadata": {},
   "outputs": [],
   "source": [
    "test"
   ]
  },
  {
   "cell_type": "code",
   "execution_count": 2,
   "metadata": {},
   "outputs": [
    {
     "data": {
      "text/plain": [
       "[0.1,\n",
       " 0.1,\n",
       " 'addremove',\n",
       " [0.65561694,\n",
       "  0.7987616,\n",
       "  0.89,\n",
       "  0.8057554,\n",
       "  0.8078994,\n",
       "  0.7011494,\n",
       "  0.74396133,\n",
       "  0.7718777060508728],\n",
       " [178, 129, 267, 448, 225, 122, 77],\n",
       " [74, 16, 43, 113, 64, 77, 12],\n",
       " [113, 49, 23, 103, 43, 27, 41],\n",
       " 6.025385519890851,\n",
       " 4.758520667150108,\n",
       " 0.7388044979285855]"
      ]
     },
     "execution_count": 2,
     "metadata": {},
     "output_type": "execute_result"
    }
   ],
   "source": [
    "generate_row(G, 0.1, 0.1, dataset, model, ddict, nodes)"
   ]
  },
  {
   "cell_type": "code",
   "execution_count": null,
   "metadata": {},
   "outputs": [],
   "source": [
    "rand['Budget'] = rand.AddRatio + rand.RemoveRatio\n",
    "rand = rand[rand.Budget < 0.30]\n",
    "greedy = greedy[greedy['Budget'] != 0.15]\n"
   ]
  },
  {
   "cell_type": "code",
   "execution_count": null,
   "metadata": {},
   "outputs": [],
   "source": [
    "df_metric = pd.concat([rand[['Budget', 'PerturbType','DistMetric', 'DegreeMetric']], greedy[['Budget', 'PerturbType','DistMetric', 'DegreeMetric']]])\n",
    "df_metric"
   ]
  },
  {
   "cell_type": "code",
   "execution_count": null,
   "metadata": {},
   "outputs": [],
   "source": [
    "def makelegend(ax):\n",
    "    handles, labels = ax.get_legend_handles_labels()  # Get handles and labels from the plot\n",
    "    label_dict = {'add' : 'Add', \n",
    "            'remove' : 'Delete', \n",
    "            'addremove' : 'Add/Delete', \n",
    "            'greedy' : 'Greedy'}  # Label dictionary to map original labels to custom labels\n",
    "    new_labels = [label_dict.get(label, label) for label in labels]  # Map labels to custom labels using the dictionary\n",
    "    ax.legend(handles + [Line2D([0], [0], color='tab:red', linestyle = 'dashed', lw=1)], new_labels + ['baseline'], fontsize = 'small', ncol = 2)  # Set the custom labels to the legend\n",
    "\n",
    "hue_colors = {'add' : 'tab:blue', \n",
    "            'remove' : 'tab:green', \n",
    "            'addremove' : 'tab:orange', \n",
    "            'greedy' : 'tab:red'} \n",
    "hue_order = ['add', 'addremove', 'remove']\n",
    "def add_grid(ax):\n",
    "    ax.grid(); \n",
    "    ax.set_axisbelow(True);\n"
   ]
  },
  {
   "cell_type": "code",
   "execution_count": null,
   "metadata": {},
   "outputs": [],
   "source": [
    "fig, ax = plt.subplots(figsize=(4, 4))\n",
    "\n",
    "sns.boxplot(data=df_metric, x= 'Budget', y= 'DistMetric', hue = 'PerturbType', showfliers = False, hue_order= hue_order, palette = hue_colors)\n",
    "makelegend(ax)\n",
    "plt.xlabel('Budget')\n",
    "plt.ylabel('Distribution Metric')\n",
    "add_grid(ax)\n",
    "plt.axhline(5.51, linestyle = '--', color = 'red')\n",
    "plt.show()"
   ]
  },
  {
   "cell_type": "code",
   "execution_count": null,
   "metadata": {},
   "outputs": [],
   "source": [
    "fig, ax = plt.subplots(figsize=(4, 4))\n",
    "\n",
    "sns.boxplot(data=df_metric, x= 'Budget', y= 'DegreeMetric', hue = 'PerturbType', showfliers = False, hue_order = hue_order, palette= hue_colors)\n",
    "makelegend(ax)\n",
    "plt.xlabel('Budget')\n",
    "plt.ylabel('Degree Metric')\n",
    "add_grid(ax)\n",
    "plt.axhline(4.08, linestyle = '--', color = 'red')\n",
    "plt.show()"
   ]
  },
  {
   "cell_type": "code",
   "execution_count": null,
   "metadata": {},
   "outputs": [],
   "source": [
    "#rand['PerturbedTestFScores'] = rand['PerturbedTestFScores'].apply(ast.literal_eval)\n",
    "vis = rand[(rand.Budget == 0.10) & (rand.PerturbType == 'remove')].reset_index(drop  = True)\n",
    "vis['PerturbedTestFScores'] = vis['PerturbedTestFScores'].apply(lambda row: row[7])\n"
   ]
  },
  {
   "cell_type": "code",
   "execution_count": null,
   "metadata": {},
   "outputs": [],
   "source": [
    "\n",
    "fig, ax = plt.subplots(figsize=(5, 4))\n",
    "x = vis['DegreeMetric']\n",
    "y = vis['PerturbedTestFScores']\n",
    "sns.scatterplot( x= x, y= y, ax = ax, marker = '^', s = 30, edgecolor = 'black', color = 'tab:green')\n",
    "# Calculate R2 score\n",
    "slope, intercept, r_value, pv, se = stats.linregress(x, y)\n",
    "# Add R2 score to plot\n",
    "ax.text(0.85, 0.85, f'R Score: {r_value:.2f}', ha='center', va='center', transform=plt.gca().transAxes)\n",
    "\n",
    "ax.set_ylabel('F Macro')\n",
    "ax.set_xlabel('Degree Metric')\n",
    "add_grid(ax)\n"
   ]
  },
  {
   "cell_type": "code",
   "execution_count": null,
   "metadata": {},
   "outputs": [],
   "source": [
    "g"
   ]
  },
  {
   "cell_type": "code",
   "execution_count": null,
   "metadata": {},
   "outputs": [],
   "source": [
    "\n",
    "fig, ax = plt.subplots(figsize=(5, 4))\n",
    "x = vis['DistMetric']\n",
    "y = vis['PerturbedTestFScores']\n",
    "sns.scatterplot( x= x, y= y, ax = ax, marker = 's', s = 30, edgecolor = 'black', color = 'tab:green')\n",
    "# Calculate R2 score\n",
    "slope, intercept, r_value, pv, se = stats.linregress(x, y)\n",
    "# Add R2 score to plot\n",
    "ax.text(0.85, 0.90, f'R Score: {r_value:.2f}', ha='center', va='center', transform=plt.gca().transAxes)\n",
    "\n",
    "ax.set_ylabel('F Macro')\n",
    "ax.set_xlabel('Degree Metric')\n",
    "add_grid(ax)"
   ]
  },
  {
   "cell_type": "code",
   "execution_count": null,
   "metadata": {},
   "outputs": [],
   "source": [
    "greedy['EdgeRatio'] = (greedy['add_count'])/(greedy['Budget'] * 5069)\n"
   ]
  },
  {
   "cell_type": "code",
   "execution_count": null,
   "metadata": {},
   "outputs": [],
   "source": [
    "fig, ax = plt.subplots(figsize=(4, 4))\n",
    "\n",
    "sns.boxplot(data=greedy, x= 'Budget', y= 'EdgeRatio', showfliers = False, color = 'tab:red')\n",
    "plt.xlabel('Budget')\n",
    "plt.ylabel('Proportion of Added Edges')\n",
    "add_grid(ax)\n",
    "plt.show()"
   ]
  },
  {
   "cell_type": "code",
   "execution_count": null,
   "metadata": {},
   "outputs": [],
   "source": [
    "benchmark = pd.read_csv(r'data/benchmark.csv', index_col= 0)"
   ]
  },
  {
   "cell_type": "code",
   "execution_count": null,
   "metadata": {},
   "outputs": [],
   "source": [
    "avg_dist_metric = []\n",
    "avg_degree_metric= []\n",
    "sd_dist_metric= []\n",
    "sd_degree_metric= []\n",
    "avg_hp = []\n",
    "\n",
    "\n",
    "for index, row in greedy.iterrows():\n",
    "    # Extract add_count and delete_count values from the current row\n",
    "    add_count = row['add_count']\n",
    "    delete_count = row['remove_count']\n",
    "    \n",
    "    # Slice `benchmark` based on add_count and delete_count\n",
    "    benchmark_slice = benchmark[(benchmark['AddRatio'] == add_count) & (benchmark['RemoveRatio'] == delete_count)]\n",
    "    \n",
    "    # Calculate average and standard deviation of 'DistMetric' and 'DegreeMetric' columns\n",
    "    avg_dist_metric.append(benchmark_slice['DistMetric'].mean())\n",
    "    avg_degree_metric.append(benchmark_slice['DegreeMetric'].mean())\n",
    "    avg_hp.append(benchmark_slice['PerturbedHomophily'].mean())\n",
    "    sd_dist_metric.append(benchmark_slice['DistMetric'].std())\n",
    "    sd_degree_metric.append(benchmark_slice['DegreeMetric'].std())"
   ]
  },
  {
   "cell_type": "code",
   "execution_count": null,
   "metadata": {},
   "outputs": [],
   "source": [
    "benchmark\n",
    "cols = ['PerturbedTestFScores', 'TP', 'FN', 'FP']\n",
    "for col in cols:\n",
    "    if col in rand.columns:\n",
    "        benchmark[col] = benchmark[col].apply(ast.literal_eval)\n",
    "    if col in greedy.columns:\n",
    "        greedy[col] = greedy[col].apply(ast.literal_eval)"
   ]
  },
  {
   "cell_type": "code",
   "execution_count": null,
   "metadata": {},
   "outputs": [],
   "source": [
    "import pandas as pd\n",
    "\n",
    "def create_df(random, greedy, val, bench, labelcount):\n",
    "    n = len(random.loc[0, val])\n",
    "    outg = pd.DataFrame();outr = pd.DataFrame()\n",
    "\n",
    "    outg['Budget'] = greedy.Budget\n",
    "    outg['PerturbType'] = greedy.PerturbType\n",
    "\n",
    "    outr['Budget'] = random.AddRatio + random.RemoveRatio\n",
    "    outr['PerturbType'] = random.PerturbType\n",
    "\n",
    "\n",
    "    classes = [[] for _ in range(n)]\n",
    "\n",
    "    for c in range(len(random)):\n",
    "        for i in range(n):\n",
    "            if val =='PerturbedTestFScores':\n",
    "                classes[i].append(random.loc[c, val][i] - bench[i])\n",
    "            else:\n",
    "                classes[i].append((random.loc[c, val][i] - bench[i]) / labelcount[i])\n",
    "    for i, c in enumerate(classes):\n",
    "        outr[i] = c\n",
    "    \n",
    "    classes = [[] for _ in range(n)]\n",
    "    \n",
    "    for c in range(len(greedy)):\n",
    "        for i in range(n):\n",
    "            if val =='PerturbedTestFScores':\n",
    "                classes[i].append(greedy.loc[c, val][i] - bench[i])\n",
    "            else:\n",
    "                classes[i].append((greedy.loc[c, val][i] - bench[i]) / labelcount[i])\n",
    "                \n",
    "    for i, c in enumerate(classes):\n",
    "        outg[i] = c\n",
    "    \n",
    "    out = pd.concat([outg, outr], ignore_index=True)\n",
    "\n",
    "    out = pd.melt(out, id_vars = ['Budget', 'PerturbType'], value_vars=range(n),\n",
    "                    var_name='class', value_name=val)  \n",
    "    return out\n",
    "\n",
    "df_fscore = create_df(benchmark, greedy, 'PerturbedTestFScores', )"
   ]
  },
  {
   "cell_type": "code",
   "execution_count": null,
   "metadata": {},
   "outputs": [],
   "source": [
    "greedy['benchmark_degree_avg'] = avg_degree_metric\n",
    "greedy['benchmark_dist_avg'] = avg_dist_metric\n",
    "greedy['benchmark_degree_sd'] = sd_degree_metric\n",
    "greedy['benchmark_hp'] = avg_hp"
   ]
  },
  {
   "cell_type": "code",
   "execution_count": null,
   "metadata": {},
   "outputs": [],
   "source": [
    "df_dist = pd.melt(greedy, id_vars='Budget', value_vars=['DistMetric', 'benchmark_dist_avg'], var_name='type', value_name='DistMetric')\n",
    "df_degree = pd.melt(greedy, id_vars='Budget', value_vars=['DegreeMetric', 'benchmark_degree_avg'], var_name='type', value_name='DegreeMetric')\n",
    "df_hp = pd.melt(greedy, id_vars='Budget', value_vars=['PerturbedHomophily', 'benchmark_hp'], var_name='type', value_name='PerturbedHomophily')"
   ]
  },
  {
   "cell_type": "code",
   "execution_count": null,
   "metadata": {},
   "outputs": [],
   "source": [
    "from matplotlib.lines import Line2D\n",
    "\n",
    "def makelegend(ax):\n",
    "    handles, labels = ax.get_legend_handles_labels()  # Get handles and labels from the plot\n",
    "    label_dict = {'DistMetric' : 'Greedy', \n",
    "            'benchmark_degree_avg' : 'Random Benchmark', \n",
    "            'benchmark_dist_avg' : 'Random Benchmark', \n",
    "            'DegreeMetric' : 'Greedy', \n",
    "            'benchmark_hp' : 'Random Benchmark', \n",
    "            'PerturbedHomophily' : 'Greedy'}  # Label dictionary to map original labels to custom labels\n",
    "    new_labels = [label_dict.get(label, label) for label in labels]  # Map labels to custom labels using the dictionary\n",
    "    ax.legend(handles + [Line2D([0], [0], color='tab:red', linestyle = 'dashed', lw=1)], new_labels + ['baseline'], fontsize = 'small', ncol = 1)  # Set the custom labels to the legend\n",
    "\n",
    "hue_colors = {'benchmark_degree_avg' : 'tab:pink', \n",
    "            'benchmark_dist_avg' : 'tab:pink', \n",
    "            'DegreeMetric' : 'tab:red', \n",
    "            'DistMetric' : 'tab:red', \n",
    "            'PerturbedHomophily' : 'tab:red', \n",
    "            'benchmark_hp' : 'tab:pink'} \n",
    "\n",
    "def add_grid(ax):\n",
    "    ax.grid(); \n",
    "    ax.set_axisbelow(True);"
   ]
  },
  {
   "cell_type": "code",
   "execution_count": null,
   "metadata": {},
   "outputs": [],
   "source": [
    "df_hp['PerturbedHomophily'] = df_hp['PerturbedHomophily'] - 0.8041"
   ]
  },
  {
   "cell_type": "code",
   "execution_count": null,
   "metadata": {},
   "outputs": [],
   "source": [
    "fig, ax = plt.subplots(figsize=(4, 4))\n",
    "\n",
    "sns.boxplot(data=df_hp, x= 'Budget', y= 'PerturbedHomophily', hue = 'type', showfliers = False, palette = hue_colors, linewidth= 0.5)\n",
    "makelegend(ax)\n",
    "plt.xlabel('Budget')\n",
    "plt.ylabel('Homophily')\n",
    "add_grid(ax)\n",
    "plt.show()"
   ]
  },
  {
   "cell_type": "code",
   "execution_count": null,
   "metadata": {},
   "outputs": [],
   "source": [
    "fig, ax = plt.subplots(figsize=(4, 4))\n",
    "\n",
    "sns.boxplot(data=df_dist, x= 'Budget', y= 'DistMetric', hue = 'type', showfliers = False, palette = hue_colors)\n",
    "makelegend(ax)\n",
    "plt.axhline(5.51, linestyle = '--', color = 'red')\n",
    "plt.xlabel('Budget')\n",
    "plt.ylabel('Distribution Metric')\n",
    "add_grid(ax)\n",
    "plt.show()"
   ]
  },
  {
   "cell_type": "code",
   "execution_count": null,
   "metadata": {},
   "outputs": [],
   "source": [
    "fig, ax = plt.subplots(figsize=(4, 4))\n",
    "\n",
    "sns.boxplot(data=df_degree, x= 'Budget', y= 'DegreeMetric', hue = 'type', showfliers = False, palette = hue_colors)\n",
    "makelegend(ax)\n",
    "plt.axhline(4.08, linestyle = '--', color = 'red')\n",
    "plt.xlabel('Budget')\n",
    "plt.ylabel('Degree Metric')\n",
    "add_grid(ax)\n",
    "plt.show()"
   ]
  },
  {
   "cell_type": "code",
   "execution_count": null,
   "metadata": {},
   "outputs": [],
   "source": []
  }
 ],
 "metadata": {
  "kernelspec": {
   "display_name": "4yp",
   "language": "python",
   "name": "python3"
  },
  "language_info": {
   "codemirror_mode": {
    "name": "ipython",
    "version": 3
   },
   "file_extension": ".py",
   "mimetype": "text/x-python",
   "name": "python",
   "nbconvert_exporter": "python",
   "pygments_lexer": "ipython3",
   "version": "3.8.15"
  },
  "orig_nbformat": 4
 },
 "nbformat": 4,
 "nbformat_minor": 2
}
