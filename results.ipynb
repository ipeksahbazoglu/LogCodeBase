{
 "cells": [
  {
   "cell_type": "code",
   "execution_count": 40,
   "metadata": {},
   "outputs": [],
   "source": [
    "from modules.util import load_data, load_result_df\n",
    "from modules.GCN import load_model\n",
    "import networkx as nx\n",
    "from modules.graphutil import generate_row\n",
    "import pandas as pd\n",
    "modelpath= 'GCN3.pth'\n",
    "results = load_result_df('data/benchmark.csv')\n",
    "dataset, data, G, nodes, ddict = load_data('cora')\n",
    "model = load_model('GCN3.pth', dataset)\n",
    "\n"
   ]
  },
  {
   "cell_type": "code",
   "execution_count": 41,
   "metadata": {},
   "outputs": [],
   "source": [
    "greedy = pd.read_csv(r'data/finalreportgreedy.csv', index_col= 0)\n",
    "greedy = greedy[greedy['Budget'] != 0.15].reset_index(drop = True)\n"
   ]
  },
  {
   "cell_type": "code",
   "execution_count": 60,
   "metadata": {},
   "outputs": [],
   "source": [
    "\n",
    "for i in range(248, len(greedy)):\n",
    "    remove = greedy['remove_count'][i]; add = greedy['add_count'][i]\n",
    "    for n in range(150):\n",
    "        row = generate_row(G, add, remove, dataset, model, ddict, nodes)\n",
    "        results.loc[(len(results))] = row"
   ]
  },
  {
   "cell_type": "code",
   "execution_count": 59,
   "metadata": {},
   "outputs": [
    {
     "data": {
      "text/plain": [
       "247"
      ]
     },
     "execution_count": 59,
     "metadata": {},
     "output_type": "execute_result"
    }
   ],
   "source": [
    "i"
   ]
  },
  {
   "cell_type": "code",
   "execution_count": 56,
   "metadata": {},
   "outputs": [],
   "source": [
    "results.to_csv('data/benchmark.csv')"
   ]
  },
  {
   "cell_type": "code",
   "execution_count": 24,
   "metadata": {},
   "outputs": [],
   "source": [
    "my_array = []\n",
    "for i in range(29,):\n",
    "    my_array += [i] * 500\n"
   ]
  },
  {
   "cell_type": "code",
   "execution_count": 39,
   "metadata": {},
   "outputs": [],
   "source": [
    "results.to_csv('data/benchmark.csv')\n",
    "\n",
    "results['greedy_id'] = greedy_id\n"
   ]
  },
  {
   "cell_type": "code",
   "execution_count": 3,
   "metadata": {},
   "outputs": [],
   "source": [
    "results = load_result_df()\n",
    "\n",
    "remove = 0.1; add = 0.1\n",
    "for i in range(800):\n",
    "    row = generate_row(G, add, remove, dataset, modelpath, ddict, nodes)\n",
    "    results.loc[(len(results))] = row\n",
    "\n",
    "remove = 0.20; add = 0\n",
    "for i in range(800):\n",
    "    row = generate_row(G, add, remove, dataset, modelpath, ddict, nodes)\n",
    "    results.loc[(len(results))] = row\n",
    "\n",
    "remove = 0; add = 0.20\n",
    "for i in range(800):\n",
    "    row = generate_row(G, add, remove, dataset, modelpath, ddict, nodes)\n",
    "    results.loc[(len(results))] = row\n",
    "    \n",
    "results.sort_values(by = ['RemoveRatio', 'AddRatio'], inplace = True, ignore_index= True)\n",
    "results.to_csv(r'data/f1_10.csv')"
   ]
  },
  {
   "cell_type": "code",
   "execution_count": 8,
   "metadata": {},
   "outputs": [],
   "source": [
    "results = load_result_df()\n",
    "remove = 0.25; add = 0.25\n",
    "for i in range(800):\n",
    "    row = generate_row(G, add, remove, dataset, modelpath, ddict, nodes)\n",
    "    results.loc[(len(results))] = row\n",
    "\n",
    "remove = 0.50; add = 0\n",
    "for i in range(800):\n",
    "    row = generate_row(G, add, remove, dataset, modelpath, ddict, nodes)\n",
    "    results.loc[(len(results))] = row\n",
    "\n",
    "remove = 0; add = 0.50\n",
    "for i in range(800):\n",
    "    row = generate_row(G, add, remove, dataset, modelpath, ddict, nodes)\n",
    "    results.loc[(len(results))] = row\n",
    "    \n",
    "results.sort_values(by = ['RemoveRatio', 'AddRatio'], inplace = True, ignore_index= True)\n",
    "results.to_csv(r'data/f1_50.csv')"
   ]
  },
  {
   "cell_type": "code",
   "execution_count": 9,
   "metadata": {},
   "outputs": [],
   "source": [
    "results = load_result_df()\n",
    "remove = 0.3; add = 0.3\n",
    "for i in range(800):\n",
    "    row = generate_row(G, add, remove, dataset, modelpath, ddict, nodes)\n",
    "    results.loc[(len(results))] = row\n",
    "\n",
    "remove = 0.60; add = 0\n",
    "for i in range(800):\n",
    "    row = generate_row(G, add, remove, dataset, modelpath, ddict, nodes)\n",
    "    results.loc[(len(results))] = row\n",
    "\n",
    "remove = 0; add = 0.60\n",
    "for i in range(800):\n",
    "    row = generate_row(G, add, remove, dataset, modelpath, ddict, nodes)\n",
    "    results.loc[(len(results))] = row\n",
    "    \n",
    "results.sort_values(by = ['RemoveRatio', 'AddRatio'], inplace = True, ignore_index= True)\n",
    "results.to_csv(r'data/f1_60.csv')"
   ]
  },
  {
   "cell_type": "code",
   "execution_count": 10,
   "metadata": {},
   "outputs": [],
   "source": [
    "results = load_result_df()\n",
    "remove = 0.2; add = 0.2\n",
    "for i in range(800):\n",
    "    row = generate_row(G, add, remove, dataset, modelpath, ddict, nodes)\n",
    "    results.loc[(len(results))] = row\n",
    "\n",
    "remove = 0.40; add = 0\n",
    "for i in range(800):\n",
    "    row = generate_row(G, add, remove, dataset, modelpath, ddict, nodes)\n",
    "    results.loc[(len(results))] = row\n",
    "\n",
    "remove = 0; add = 0.40\n",
    "for i in range(800):\n",
    "    row = generate_row(G, add, remove, dataset, modelpath, ddict, nodes)\n",
    "    results.loc[(len(results))] = row\n",
    "    \n",
    "results.sort_values(by = ['RemoveRatio', 'AddRatio'], inplace = True, ignore_index= True)\n",
    "results.to_csv(r'data/f1_40.csv')"
   ]
  },
  {
   "cell_type": "code",
   "execution_count": null,
   "metadata": {},
   "outputs": [],
   "source": [
    "results = load_result_df()\n",
    "remove = 0.15; add = 0.15\n",
    "for i in range(800):\n",
    "    row = generate_row(G, add, remove, dataset, modelpath, ddict, nodes)\n",
    "    results.loc[(len(results))] = row\n",
    "\n",
    "remove = 0.30; add = 0\n",
    "for i in range(800):\n",
    "    row = generate_row(G, add, remove, dataset, modelpath, ddict, nodes)\n",
    "    results.loc[(len(results))] = row\n",
    "\n",
    "remove = 0; add = 0.30\n",
    "for i in range(800):\n",
    "    row = generate_row(G, add, remove, dataset, modelpath, ddict, nodes)\n",
    "    results.loc[(len(results))] = row\n",
    "    \n",
    "results.sort_values(by = ['RemoveRatio', 'AddRatio'], inplace = True, ignore_index= True)\n",
    "results.to_csv(r'data/f1_30.csv')"
   ]
  },
  {
   "cell_type": "code",
   "execution_count": 11,
   "metadata": {},
   "outputs": [
    {
     "ename": "KeyboardInterrupt",
     "evalue": "",
     "output_type": "error",
     "traceback": [
      "\u001b[0;31m---------------------------------------------------------------------------\u001b[0m",
      "\u001b[0;31mKeyboardInterrupt\u001b[0m                         Traceback (most recent call last)",
      "Cell \u001b[0;32mIn[11], line 14\u001b[0m\n\u001b[1;32m     11\u001b[0m remove \u001b[39m=\u001b[39m \u001b[39m0\u001b[39m; add \u001b[39m=\u001b[39m \u001b[39m0.80\u001b[39m\n\u001b[1;32m     13\u001b[0m \u001b[39mfor\u001b[39;00m i \u001b[39min\u001b[39;00m \u001b[39mrange\u001b[39m(\u001b[39m800\u001b[39m):\n\u001b[0;32m---> 14\u001b[0m     row \u001b[39m=\u001b[39m generate_row(G, add, remove, dataset, modelpath, ddict, nodes)\n\u001b[1;32m     15\u001b[0m     results\u001b[39m.\u001b[39mloc[(\u001b[39mlen\u001b[39m(results))] \u001b[39m=\u001b[39m row\n\u001b[1;32m     17\u001b[0m results\u001b[39m.\u001b[39msort_values(by \u001b[39m=\u001b[39m [\u001b[39m'\u001b[39m\u001b[39mRemoveRatio\u001b[39m\u001b[39m'\u001b[39m, \u001b[39m'\u001b[39m\u001b[39mAddRatio\u001b[39m\u001b[39m'\u001b[39m], inplace \u001b[39m=\u001b[39m \u001b[39mTrue\u001b[39;00m, ignore_index\u001b[39m=\u001b[39m \u001b[39mTrue\u001b[39;00m)\n",
      "File \u001b[0;32m~/VSCode/4YP/modules/graphutil.py:108\u001b[0m, in \u001b[0;36mgenerate_row\u001b[0;34m(G, add, remove, dataset, modelpath, ddict, nodes)\u001b[0m\n\u001b[1;32m    106\u001b[0m macro_change \u001b[39m=\u001b[39m \u001b[39m100\u001b[39m\u001b[39m*\u001b[39m((f1_macro_p \u001b[39m-\u001b[39mf1_macro) \u001b[39m/\u001b[39m f1_macro)\n\u001b[1;32m    107\u001b[0m row\u001b[39m.\u001b[39mappend(macro_change)\n\u001b[0;32m--> 108\u001b[0m dist_metric_avg, avg_degree \u001b[39m=\u001b[39m  get_metrics(G, edges_perturbed, ddict)\n\u001b[1;32m    109\u001b[0m row\u001b[39m.\u001b[39mappend(dist_metric_avg); row\u001b[39m.\u001b[39mappend(avg_degree); \n\u001b[1;32m    110\u001b[0m _, hp \u001b[39m=\u001b[39m homophily(data_p, nodes)\n",
      "File \u001b[0;32m~/VSCode/4YP/modules/graphutil.py:57\u001b[0m, in \u001b[0;36mget_metrics\u001b[0;34m(G, edges_perturbed, ddict)\u001b[0m\n\u001b[1;32m     55\u001b[0m \u001b[39mdef\u001b[39;00m \u001b[39mget_metrics\u001b[39m(G, edges_perturbed, ddict):\n\u001b[0;32m---> 57\u001b[0m     dist_metric_avg \u001b[39m=\u001b[39m get_distribution_dict(G, edges_perturbed, ddict)\n\u001b[1;32m     58\u001b[0m     avg_degree, _ \u001b[39m=\u001b[39m get_degree_dict(G, edges_perturbed)    \n\u001b[1;32m     60\u001b[0m     \u001b[39mreturn\u001b[39;00m dist_metric_avg, avg_degree\n",
      "File \u001b[0;32m~/VSCode/4YP/modules/graphutil.py:48\u001b[0m, in \u001b[0;36mget_distribution_dict\u001b[0;34m(G, edges_perturbed, ddict)\u001b[0m\n\u001b[1;32m     46\u001b[0m         \u001b[39mfor\u001b[39;00m edge \u001b[39min\u001b[39;00m edges_perturbed[(i\u001b[39m+\u001b[39m\u001b[39m1\u001b[39m):]:\n\u001b[1;32m     47\u001b[0m             a_distance \u001b[39m=\u001b[39m find_path(G, edge_i, edge, ddict)\n\u001b[0;32m---> 48\u001b[0m             avg_distance[(edge_i, edge)] \u001b[39m=\u001b[39m a_distance\n\u001b[1;32m     50\u001b[0m dist_metric_avg \u001b[39m=\u001b[39m \u001b[39msum\u001b[39m(avg_distance\u001b[39m.\u001b[39mvalues()) \u001b[39m/\u001b[39m \u001b[39mlen\u001b[39m(avg_distance)\n\u001b[1;32m     53\u001b[0m \u001b[39mreturn\u001b[39;00m dist_metric_avg\n",
      "\u001b[0;31mKeyboardInterrupt\u001b[0m: "
     ]
    }
   ],
   "source": [
    "results = load_result_df()\n",
    "remove = 0.4; add = 0.4\n",
    "for i in range(400):\n",
    "    row = generate_row(G, add, remove, dataset, modelpath, ddict, nodes)\n",
    "    results.loc[(len(results))] = row\n",
    "remove = 0.80; add = 0\n",
    "for i in range(800):\n",
    "    row = generate_row(G, add, remove, dataset, modelpath, ddict, nodes)\n",
    "    results.loc[(len(results))] = row\n",
    "\n",
    "remove = 0; add = 0.80\n",
    "\n",
    "for i in range(800):\n",
    "    row = generate_row(G, add, remove, dataset, modelpath, ddict, nodes)\n",
    "    results.loc[(len(results))] = row\n",
    "\n",
    "results.sort_values(by = ['RemoveRatio', 'AddRatio'], inplace = True, ignore_index= True)\n",
    "results.to_csv(r'data/f1_80.csv')"
   ]
  },
  {
   "cell_type": "code",
   "execution_count": 13,
   "metadata": {},
   "outputs": [],
   "source": [
    "remove = 0; add = 0.80\n",
    "\n",
    "for i in range(2400-1851):\n",
    "    row = generate_row(G, add, remove, dataset, modelpath, ddict, nodes)\n",
    "    results.loc[(len(results))] = row\n",
    "\n",
    "results.sort_values(by = ['RemoveRatio', 'AddRatio'], inplace = True, ignore_index= True)\n",
    "results.to_csv(r'data/f1_80.csv')"
   ]
  },
  {
   "cell_type": "code",
   "execution_count": null,
   "metadata": {},
   "outputs": [],
   "source": []
  }
 ],
 "metadata": {
  "kernelspec": {
   "display_name": "4yp",
   "language": "python",
   "name": "python3"
  },
  "language_info": {
   "codemirror_mode": {
    "name": "ipython",
    "version": 3
   },
   "file_extension": ".py",
   "mimetype": "text/x-python",
   "name": "python",
   "nbconvert_exporter": "python",
   "pygments_lexer": "ipython3",
   "version": "3.8.15"
  },
  "orig_nbformat": 4,
  "vscode": {
   "interpreter": {
    "hash": "4e9a24bd070f49252313abaef66191488bf6c322eff1860d6aa1f3ddc222c992"
   }
  }
 },
 "nbformat": 4,
 "nbformat_minor": 2
}
